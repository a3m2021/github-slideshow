{
  "nbformat": 4,
  "nbformat_minor": 0,
  "metadata": {
    "colab": {
      "name": "Logistic_regression&K-nearest.ipynb",
      "provenance": [],
      "authorship_tag": "ABX9TyMMFAf36h98d/2/kLcO2Ys6",
      "include_colab_link": true
    },
    "kernelspec": {
      "name": "python3",
      "display_name": "Python 3"
    },
    "language_info": {
      "name": "python"
    }
  },
  "cells": [
    {
      "cell_type": "markdown",
      "metadata": {
        "id": "view-in-github",
        "colab_type": "text"
      },
      "source": [
        "<a href=\"https://colab.research.google.com/github/a3m2021/github-slideshow/blob/dependabot%2Fbundler%2Fnokogiri-1.11.4/Logistic_regression%26K_nearest.ipynb\" target=\"_parent\"><img src=\"https://colab.research.google.com/assets/colab-badge.svg\" alt=\"Open In Colab\"/></a>"
      ]
    },
    {
      "cell_type": "code",
      "execution_count": 21,
      "metadata": {
        "colab": {
          "base_uri": "https://localhost:8080/"
        },
        "id": "TgCwKQZ2jOOk",
        "outputId": "0f27c5df-b611-4207-8a06-db3d48eabc93"
      },
      "outputs": [
        {
          "output_type": "stream",
          "name": "stdout",
          "text": [
            "Drive already mounted at /content/gdrive; to attempt to forcibly remount, call drive.mount(\"/content/gdrive\", force_remount=True).\n"
          ]
        }
      ],
      "source": [
        "# google colab data management\n",
        "import os.path\n",
        "\n",
        "try:\n",
        "    from google.colab import drive\n",
        "    drive.mount('/content/gdrive')\n",
        "    _home = 'gdrive/MyDrive/'\n",
        "except ImportError:\n",
        "    _home = '~'\n",
        "finally:\n",
        "    data_root = os.path.join(_home, '.pytorch')"
      ]
    },
    {
      "cell_type": "code",
      "source": [
        "import numpy as np\n",
        "import pandas as pd\n",
        "import sklearn\n",
        "from sklearn.model_selection import train_test_split\n",
        "from sklearn import linear_model, preprocessing\n",
        "from sklearn.neighbors import KNeighborsClassifier\n",
        "from sklearn.linear_model import LogisticRegression\n",
        "import matplotlib.pyplot as plt\n",
        "from matplotlib import style\n",
        "import pickle"
      ],
      "metadata": {
        "id": "Kn8MCGnkjR6y"
      },
      "execution_count": 38,
      "outputs": []
    },
    {
      "cell_type": "code",
      "source": [
        "path = '/content/gdrive/MyDrive/car.data'\n",
        "data = pd.read_csv(path, sep=',')\n",
        "# print(data.head())\n",
        "prior = preprocessing.LabelEncoder()\n",
        "buying = prior.fit_transform(list(data['buying']))\n",
        "maint = prior.fit_transform(list(data['maint']))\n",
        "door = prior.fit_transform(list(data['door']))\n",
        "persons = prior.fit_transform(list(data['persons']))\n",
        "lug_boot = prior.fit_transform(list(data['lug_boot']))\n",
        "safety = prior.fit_transform(list(data['safety']))\n",
        "cls = prior.fit_transform(list(data['class']))\n",
        "\n",
        "predict = 'class'\n",
        "\n",
        "X = list(zip(buying, maint, door, persons, lug_boot, safety))\n",
        "y = list(cls)\n",
        "x_train, x_test, y_train, y_test = sklearn.model_selection.train_test_split(X, y, test_size=0.1)"
      ],
      "metadata": {
        "colab": {
          "base_uri": "https://localhost:8080/"
        },
        "id": "7fP2Cb-mjU6r",
        "outputId": "bb31cde2-b785-4543-a6eb-e04ec50650e0"
      },
      "execution_count": 34,
      "outputs": [
        {
          "output_type": "stream",
          "name": "stdout",
          "text": [
            "  buying  maint door persons lug_boot safety  class\n",
            "0  vhigh  vhigh    2       2    small    low  unacc\n",
            "1  vhigh  vhigh    2       2    small    med  unacc\n",
            "2  vhigh  vhigh    2       2    small   high  unacc\n",
            "3  vhigh  vhigh    2       2      med    low  unacc\n",
            "4  vhigh  vhigh    2       2      med    med  unacc\n"
          ]
        }
      ]
    },
    {
      "cell_type": "code",
      "source": [
        "model = KNeighborsClassifier(n_neighbors=9)\n",
        "model.fit(x_train, y_train)\n",
        "acc = model.score(x_test, y_test)\n",
        "acc"
      ],
      "metadata": {
        "colab": {
          "base_uri": "https://localhost:8080/"
        },
        "id": "F42ITNH8mMDf",
        "outputId": "6aed69ef-6af6-4ca2-f123-136960be03bd"
      },
      "execution_count": 32,
      "outputs": [
        {
          "output_type": "execute_result",
          "data": {
            "text/plain": [
              "0.953757225433526"
            ]
          },
          "metadata": {},
          "execution_count": 32
        }
      ]
    },
    {
      "cell_type": "code",
      "source": [
        "pred_names = ['unacc','acc','good','vgood']\n",
        "to_pred = model.predict(x_test)\n",
        "for x in range(len(to_pred)):\n",
        "  print('predicted: ',pred_names[to_pred[x]],'Data:', x_test[x], 'Actual:',pred_names[y_test[x]])\n"
      ],
      "metadata": {
        "colab": {
          "base_uri": "https://localhost:8080/",
          "height": 133
        },
        "id": "Aq3rKcIDbz5u",
        "outputId": "89b98df4-ca5c-4cb1-bb47-c74d81d0046f"
      },
      "execution_count": 37,
      "outputs": [
        {
          "output_type": "error",
          "ename": "SyntaxError",
          "evalue": "ignored",
          "traceback": [
            "\u001b[0;36m  File \u001b[0;32m\"<ipython-input-37-8b6c23430a60>\"\u001b[0;36m, line \u001b[0;32m4\u001b[0m\n\u001b[0;31m    # print('predicted: ',pred_names[to_pred[x]],'Data:', x_test[x], 'Actual:',pred_names[y_test[x]])\u001b[0m\n\u001b[0m                                                                                                     ^\u001b[0m\n\u001b[0;31mSyntaxError\u001b[0m\u001b[0;31m:\u001b[0m unexpected EOF while parsing\n"
          ]
        }
      ]
    },
    {
      "cell_type": "code",
      "source": [
        "clf = LogisticRegression(random_state=0).fit(x_train, y_train)\n",
        "acc = model.score(x_test, y_test)\n",
        "acc"
      ],
      "metadata": {
        "colab": {
          "base_uri": "https://localhost:8080/"
        },
        "id": "zDg643t9cQC4",
        "outputId": "cb1974bd-3633-4337-a375-471507b9c02b"
      },
      "execution_count": 45,
      "outputs": [
        {
          "output_type": "execute_result",
          "data": {
            "text/plain": [
              "0.9653179190751445"
            ]
          },
          "metadata": {},
          "execution_count": 45
        }
      ]
    },
    {
      "cell_type": "code",
      "source": [
        "pred_names = ['unacc','acc','good','vgood']\n",
        "to_pred = clf.predict(x_test)\n",
        "for x in range(len(to_pred)):\n",
        "  if pred_names[to_pred[x]] != pred_names[y_test[x]]:\n",
        "    print('predicted: ',pred_names[to_pred[x]],'Data:', x_test[x], 'Actual:',pred_names[y_test[x]])\n"
      ],
      "metadata": {
        "colab": {
          "base_uri": "https://localhost:8080/"
        },
        "id": "OORB0q30fpLg",
        "outputId": "a5fd39ef-babd-43ae-f8c3-82ab7978f653"
      },
      "execution_count": 44,
      "outputs": [
        {
          "output_type": "stream",
          "name": "stdout",
          "text": [
            "predicted:  good Data: (0, 2, 2, 1, 2, 0) Actual: unacc\n",
            "predicted:  unacc Data: (1, 0, 3, 2, 1, 1) Actual: good\n",
            "predicted:  good Data: (2, 3, 2, 2, 1, 2) Actual: unacc\n",
            "predicted:  good Data: (2, 3, 3, 1, 2, 0) Actual: unacc\n",
            "predicted:  good Data: (0, 1, 2, 2, 1, 2) Actual: unacc\n",
            "predicted:  unacc Data: (1, 1, 2, 2, 0, 1) Actual: good\n",
            "predicted:  good Data: (2, 1, 0, 1, 2, 2) Actual: unacc\n",
            "predicted:  good Data: (2, 0, 0, 1, 0, 0) Actual: unacc\n",
            "predicted:  unacc Data: (3, 0, 3, 2, 0, 2) Actual: good\n",
            "predicted:  unacc Data: (1, 1, 0, 2, 0, 0) Actual: vgood\n",
            "predicted:  good Data: (2, 2, 3, 2, 2, 0) Actual: unacc\n",
            "predicted:  unacc Data: (0, 0, 3, 2, 0, 1) Actual: good\n",
            "predicted:  vgood Data: (3, 1, 2, 2, 0, 0) Actual: unacc\n",
            "predicted:  unacc Data: (1, 2, 2, 2, 1, 0) Actual: vgood\n",
            "predicted:  good Data: (1, 1, 3, 1, 0, 0) Actual: vgood\n",
            "predicted:  unacc Data: (2, 0, 1, 2, 0, 1) Actual: good\n",
            "predicted:  good Data: (2, 2, 3, 1, 2, 0) Actual: unacc\n",
            "predicted:  good Data: (0, 0, 3, 1, 1, 2) Actual: unacc\n",
            "predicted:  good Data: (1, 0, 3, 1, 2, 2) Actual: unacc\n",
            "predicted:  good Data: (1, 2, 3, 1, 0, 0) Actual: vgood\n",
            "predicted:  good Data: (3, 1, 0, 2, 0, 2) Actual: unacc\n",
            "predicted:  unacc Data: (2, 1, 2, 2, 1, 0) Actual: vgood\n",
            "predicted:  good Data: (3, 1, 3, 1, 0, 2) Actual: unacc\n",
            "predicted:  good Data: (3, 2, 1, 1, 0, 2) Actual: unacc\n",
            "predicted:  unacc Data: (3, 0, 2, 2, 1, 0) Actual: good\n",
            "predicted:  vgood Data: (0, 1, 2, 2, 0, 0) Actual: unacc\n",
            "predicted:  vgood Data: (3, 1, 3, 2, 0, 0) Actual: unacc\n",
            "predicted:  good Data: (3, 2, 3, 1, 0, 2) Actual: unacc\n",
            "predicted:  good Data: (1, 3, 3, 2, 2, 0) Actual: unacc\n",
            "predicted:  unacc Data: (0, 2, 0, 2, 0, 1) Actual: good\n",
            "predicted:  good Data: (0, 2, 2, 1, 0, 0) Actual: unacc\n",
            "predicted:  good Data: (2, 3, 3, 2, 1, 2) Actual: unacc\n",
            "predicted:  good Data: (3, 1, 0, 2, 1, 0) Actual: unacc\n",
            "predicted:  good Data: (1, 2, 1, 1, 0, 2) Actual: acc\n",
            "predicted:  unacc Data: (1, 2, 0, 2, 0, 0) Actual: vgood\n",
            "predicted:  good Data: (1, 1, 1, 2, 2, 2) Actual: unacc\n",
            "predicted:  unacc Data: (0, 0, 3, 2, 2, 1) Actual: good\n",
            "predicted:  good Data: (3, 1, 1, 2, 1, 0) Actual: unacc\n",
            "predicted:  good Data: (1, 2, 3, 2, 2, 2) Actual: unacc\n",
            "predicted:  good Data: (3, 2, 2, 2, 2, 0) Actual: unacc\n",
            "predicted:  good Data: (1, 3, 0, 2, 0, 2) Actual: unacc\n",
            "predicted:  good Data: (2, 3, 2, 1, 0, 0) Actual: unacc\n",
            "predicted:  good Data: (2, 0, 2, 1, 2, 0) Actual: unacc\n",
            "predicted:  good Data: (0, 2, 0, 1, 1, 0) Actual: unacc\n",
            "predicted:  unacc Data: (0, 3, 3, 2, 0, 2) Actual: good\n",
            "predicted:  good Data: (2, 2, 0, 2, 0, 2) Actual: unacc\n",
            "predicted:  good Data: (1, 1, 1, 2, 2, 0) Actual: acc\n",
            "predicted:  good Data: (2, 1, 1, 1, 0, 2) Actual: acc\n",
            "predicted:  good Data: (2, 1, 0, 2, 0, 2) Actual: acc\n",
            "predicted:  good Data: (1, 0, 3, 1, 0, 2) Actual: unacc\n",
            "predicted:  good Data: (2, 1, 0, 1, 0, 0) Actual: vgood\n",
            "predicted:  good Data: (0, 2, 2, 1, 1, 2) Actual: unacc\n",
            "predicted:  unacc Data: (3, 0, 3, 2, 1, 0) Actual: good\n",
            "predicted:  good Data: (3, 2, 0, 2, 1, 0) Actual: unacc\n",
            "predicted:  good Data: (3, 2, 3, 2, 2, 0) Actual: unacc\n",
            "predicted:  good Data: (1, 3, 0, 1, 2, 0) Actual: unacc\n",
            "predicted:  unacc Data: (0, 0, 0, 2, 2, 0) Actual: good\n",
            "predicted:  good Data: (3, 1, 1, 1, 1, 0) Actual: unacc\n",
            "predicted:  good Data: (2, 1, 1, 2, 1, 2) Actual: acc\n"
          ]
        }
      ]
    },
    {
      "cell_type": "code",
      "source": [
        ""
      ],
      "metadata": {
        "id": "mT7J5k5Tgj6w"
      },
      "execution_count": null,
      "outputs": []
    }
  ]
}