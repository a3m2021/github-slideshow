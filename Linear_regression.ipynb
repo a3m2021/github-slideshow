{
  "nbformat": 4,
  "nbformat_minor": 0,
  "metadata": {
    "colab": {
      "name": "Linear_regression.ipynb",
      "provenance": [],
      "authorship_tag": "ABX9TyO7sYKhd8+1mwuhpP+5k6hE",
      "include_colab_link": true
    },
    "kernelspec": {
      "name": "python3",
      "display_name": "Python 3"
    },
    "language_info": {
      "name": "python"
    }
  },
  "cells": [
    {
      "cell_type": "markdown",
      "metadata": {
        "id": "view-in-github",
        "colab_type": "text"
      },
      "source": [
        "<a href=\"https://colab.research.google.com/github/a3m2021/github-slideshow/blob/dependabot%2Fbundler%2Fnokogiri-1.11.4/Linear_regression.ipynb\" target=\"_parent\"><img src=\"https://colab.research.google.com/assets/colab-badge.svg\" alt=\"Open In Colab\"/></a>"
      ]
    },
    {
      "cell_type": "code",
      "execution_count": null,
      "metadata": {
        "colab": {
          "base_uri": "https://localhost:8080/"
        },
        "id": "EX8QXZz7RkOT",
        "outputId": "a0506a4d-8472-42c6-cfed-e69b21a9f9e3"
      },
      "outputs": [
        {
          "output_type": "stream",
          "name": "stdout",
          "text": [
            "Drive already mounted at /content/gdrive; to attempt to forcibly remount, call drive.mount(\"/content/gdrive\", force_remount=True).\n"
          ]
        }
      ],
      "source": [
        "# google colab data management\n",
        "import os.path\n",
        "\n",
        "try:\n",
        "    from google.colab import drive\n",
        "    drive.mount('/content/gdrive')\n",
        "    _home = 'gdrive/MyDrive/'\n",
        "except ImportError:\n",
        "    _home = '~'\n",
        "finally:\n",
        "    data_root = os.path.join(_home, '.pytorch')"
      ]
    },
    {
      "cell_type": "code",
      "source": [
        "import numpy as np\n",
        "import pandas as pd\n",
        "import sklearn\n",
        "from sklearn.model_selection import train_test_split\n",
        "from sklearn import linear_model\n",
        "import matplotlib.pyplot as plt\n",
        "from matplotlib import style\n",
        "import pickle"
      ],
      "metadata": {
        "id": "OMTp8snLRou4"
      },
      "execution_count": null,
      "outputs": []
    },
    {
      "cell_type": "code",
      "source": [
        "path = '/content/gdrive/MyDrive/student-mat.csv'\n",
        "data = pd.read_csv(path, sep=';')\n",
        "data = data[['G1','G2','G3','studytime','health','failures','absences']]\n",
        "# data.head()\n",
        "predicts = 'G3'\n",
        "X = np.array(data.drop([predicts], 1))\n",
        "Y = np.array(data[predicts])\n",
        "print(Y.shape, X.shape)\n",
        "x_train, x_test, y_train, y_test = sklearn.model_selection.train_test_split(X, Y, test_size=0.1)"
      ],
      "metadata": {
        "colab": {
          "base_uri": "https://localhost:8080/"
        },
        "id": "dlH-vb2xSifD",
        "outputId": "67944f27-4832-4966-e60f-22abde3a90a7"
      },
      "execution_count": null,
      "outputs": [
        {
          "output_type": "stream",
          "name": "stdout",
          "text": [
            "(395,) (395, 6)\n"
          ]
        },
        {
          "output_type": "stream",
          "name": "stderr",
          "text": [
            "/usr/local/lib/python3.7/dist-packages/ipykernel_launcher.py:6: FutureWarning: In a future version of pandas all arguments of DataFrame.drop except for the argument 'labels' will be keyword-only\n",
            "  \n"
          ]
        }
      ]
    },
    {
      "cell_type": "code",
      "source": [
        "# best = 0\n",
        "# for _ in range(900000):\n",
        "#   x_train, x_test, y_train, y_test = sklearn.model_selection.train_test_split(X, Y, test_size=0.1)\n",
        "#   linear = linear_model.LinearRegression()\n",
        "#   linear.fit(x_train, y_train)\n",
        "#   acc = linear.score(x_train, y_train)\n",
        "#   print(acc)\n",
        "#   if acc> best:\n",
        "#     best = acc\n",
        "#     with open('/content/gdrive/MyDrive/for_beginner/student_model.pkl', 'wb') as f:\n",
        "#       pickle.dump(linear, f)"
      ],
      "metadata": {
        "id": "K45zhCO9TqT2"
      },
      "execution_count": null,
      "outputs": []
    },
    {
      "cell_type": "code",
      "source": [
        "with open('/content/gdrive/MyDrive/for_beginner/student_model.pkl', 'rb') as f:\n",
        "  linear = pickle.load(f)"
      ],
      "metadata": {
        "id": "s1Q7v1Kigcvz"
      },
      "execution_count": null,
      "outputs": []
    },
    {
      "cell_type": "code",
      "source": [
        "print('Coeffecient:\\n', linear.coef_)\n",
        "print('Intercept: \\n', linear.intercept_)"
      ],
      "metadata": {
        "colab": {
          "base_uri": "https://localhost:8080/"
        },
        "id": "mmdqayvrYEZi",
        "outputId": "08af727f-80d0-4568-ffec-c830f51cf32a"
      },
      "execution_count": null,
      "outputs": [
        {
          "output_type": "stream",
          "name": "stdout",
          "text": [
            "Coeffecient:\n",
            " [ 0.1054162   0.97512786  0.0554656   0.04382708 -0.33714042  0.02116527]\n",
            "Intercept: \n",
            " -1.2644633614041982\n"
          ]
        }
      ]
    },
    {
      "cell_type": "code",
      "source": [
        "to_pred = linear.predict(x_test)\n",
        "for x in range(len(to_pred)):\n",
        "  print(to_pred[x], x_test[x], y_test[x])"
      ],
      "metadata": {
        "colab": {
          "base_uri": "https://localhost:8080/"
        },
        "id": "RInZ-7sMbd2x",
        "outputId": "c85fa673-49c3-4d08-94ff-01d395adb3ee"
      },
      "execution_count": null,
      "outputs": [
        {
          "output_type": "stream",
          "name": "stdout",
          "text": [
            "15.098455732119758 [15 15  2  1  0  0] 15\n",
            "8.980577003985443 [10  9  2  5  0  4] 11\n",
            "7.751883382212704 [ 9  8  2  4  1 15] 8\n",
            "10.740755455053375 [ 9 11  2  5  0  0] 12\n",
            "9.379486876369203 [ 7 10  2  1  0  0] 11\n",
            "14.090934224822004 [14 14  1  2  0  4] 14\n",
            "8.638263365120666 [8 9 2 2 0 4] 10\n",
            "13.155006488158861 [13 13  2  5  0  2] 13\n",
            "15.246202462126694 [16 15  2  1  0  2] 15\n",
            "6.50433401893355 [ 6  7  2  5  1 15] 8\n",
            "12.011240065703223 [15 12  2  5  1  0] 12\n",
            "15.25423265909207 [16 15  1  1  0  5] 16\n",
            "6.774165266328479 [8 7 2 3 0 6] 9\n",
            "8.7229244331178 [8 9 2 2 0 8] 10\n",
            "8.305209748815193 [ 9  9  2  4  2 11] 9\n",
            "13.168141558192769 [13 13  3  5  0  0] 13\n",
            "12.812692849294084 [11 13  2  2  0  2] 14\n",
            "12.219626207040536 [12 12  2  3  0 13] 13\n",
            "15.253008933239235 [14 15  2  5  0  4] 15\n",
            "8.73544427493551 [8 9 1 5 0 5] 9\n",
            "18.58542567156485 [18 18  1  4  0  8] 18\n",
            "7.43440437722345 [9 8 2 4 1 0] 0\n",
            "6.826432684564578 [ 7  7  1  4  0 14] 5\n",
            "11.115600060235957 [13 11  2  2  0  4] 11\n",
            "11.03624891506725 [11 11  2  5  0  4] 11\n",
            "11.00705345110259 [11 11  3  5  0  0] 10\n",
            "10.055545003382136 [10 10  2  1  0 17] 10\n",
            "11.555001512549245 [ 8 12  1  5  0  0] 12\n",
            "17.183323107166224 [16 17  1  1  0  4] 18\n",
            "9.701045387222742 [ 8 10  2  4  0  4] 10\n",
            "11.871250100574358 [11 12  1  5  0  0] 10\n",
            "8.229391854992194 [7 9 1 5 1 2] 8\n",
            "10.20737123925336 [12 10  2  4  0  8] 11\n",
            "10.92933617077477 [10 11  2  4  0  6] 11\n",
            "13.912495482566298 [13 14  2  1  0  0] 15\n",
            "11.568820153658503 [10 12  2  5  1  4] 12\n",
            "14.289519597452312 [14 14  3  4  0  4] 14\n",
            "9.926509397557503 [10 10  3  5  0  0] 9\n",
            "10.844948534864937 [13 11  2  4  1  3] 11\n",
            "7.534647357304138 [8 8 2 1 0 0] 0\n"
          ]
        }
      ]
    },
    {
      "cell_type": "code",
      "source": [
        "p = 'G1'\n",
        "style.use('ggplot')\n",
        "plt.scatter(data[p], data['G3'])\n",
        "plt.xlabel(p)\n",
        "plt.ylabel('Final Grade')\n",
        "plt.show()"
      ],
      "metadata": {
        "colab": {
          "base_uri": "https://localhost:8080/",
          "height": 282
        },
        "id": "QdP5blzUcy7A",
        "outputId": "c61876d8-9fe5-48b4-f3b4-5f6653918ee8"
      },
      "execution_count": null,
      "outputs": [
        {
          "output_type": "display_data",
          "data": {
            "text/plain": [
              "<Figure size 432x288 with 1 Axes>"
            ],
            "image/png": "[encoded data removed]"
          },
          "metadata": {}
        }
      ]
    },
    {
      "cell_type": "code",
      "source": [
        ""
      ],
      "metadata": {
        "id": "euo6wSY8qqq9"
      },
      "execution_count": null,
      "outputs": []
    }
  ]
}